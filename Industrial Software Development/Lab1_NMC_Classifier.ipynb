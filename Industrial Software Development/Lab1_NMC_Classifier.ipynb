{
  "nbformat": 4,
  "nbformat_minor": 0,
  "metadata": {
    "colab": {
      "provenance": []
    },
    "kernelspec": {
      "name": "python3",
      "display_name": "Python 3"
    },
    "language_info": {
      "name": "python"
    }
  },
  "cells": [
    {
      "cell_type": "markdown",
      "source": [
        "In this programming exercise, we will implement a simple machine-learning algorithm to classify handwritten digits.\n",
        "\n",
        "We start by writing a simple function to load the popular MNIST handwritten digit images and visualize some examples."
      ],
      "metadata": {
        "id": "RcCrU_krFCQ6"
      }
    },
    {
      "cell_type": "markdown",
      "source": [
        "In order to create an engineerized software, I want to create two classes:\n",
        "\n",
        "\n",
        "*   DatasetManager : utils for load the entire dataset, split properly to obtain a training set and a test set\n",
        "*   NmcClassifier : responsable to compute a \"fit\" from the dataset and the \"prediction\" of the new samples\n",
        "\n"
      ],
      "metadata": {
        "id": "85zStORxFOUS"
      }
    },
    {
      "cell_type": "code",
      "source": [
        "# Nearest Mean Centroid Exercise in Isde Course\n",
        "\n",
        "import pandas as pd\n",
        "import numpy as np\n",
        "\n",
        "class DatasetManager:\n",
        "  #constructor\n",
        "  def __init__(self, filepath=''):\n",
        "    self._pathDataset = filepath\n",
        "    self._data = None\n",
        "\n",
        "  #loadDatast with pandas\n",
        "  def loadDataset(self, nSamples = None):\n",
        "    if self._pathDataset != \"\" :\n",
        "\n",
        "      self._data = pd.read_csv(self._pathDataset)\n",
        "      self._data = np.array(self._data)\n",
        "\n",
        "      if nSamples is not None:\n",
        "        self._data = self._data[0:nSamples, : ]  #_data is 2D array.  0:nSamples select the first nSamples rows; only the column operator select all the columns of the dataseta\n",
        "\n",
        "      self._x = self._data[ : , 1: ] #cut on from the first column to the end. x contains images\n",
        "      self._y = self._data[ : , 0] #cut on the first column. y contains contains the label of the images\n",
        "\n",
        "      return self._x,self._y\n",
        "\n",
        "  #utils\n",
        "  def digitsForEachClass(self):\n",
        "    if self._data is not None:\n",
        "      numClasses = np.unique(self._y).size #find unique element in an array\n",
        "      print('NumClasses are: ',numClasses)\n",
        "      counts = np.zeros(shape=(numClasses,), dtype=int)\n",
        "\n",
        "      for i in range(0,numClasses):\n",
        "        counts[i] = np.array(i == self._y).sum() # numpy broadcasting -> different vectors size\n",
        "\n",
        "  def dataSplit(self,trainFraction = 0.6):\n",
        "    numSamples = self._y.size\n",
        "    trainingSamples = int(numSamples * trainFraction)\n",
        "    idx = np.array(range(0, numSamples))\n",
        "    #Shuffling process: is essential to ensure that the original order of the data does not influence the model training process\n",
        "    np.random.shuffle(idx) # shuffle indexes\n",
        "\n",
        "    #prepare indexes for training and test set\n",
        "    indexesTraining = idx[0:trainingSamples]\n",
        "    indexesTest = idx[trainingSamples:]\n",
        "\n",
        "    #Training set: extract from dataset the shuffled elements based on casual indexesTraining list\n",
        "    xTraining = self._x[indexesTraining, :] # x = image's bytes\n",
        "    yTraining = self._y[indexesTraining] # y = images' label\n",
        "\n",
        "    #Test set : extract from dataset the shuffled elements based on casual indexesTest list\n",
        "    xTest = self._x[indexesTest, :]\n",
        "    yTest = self._y[indexesTest]\n",
        "\n",
        "    return xTraining , yTraining, xTest, yTest\n",
        "\n",
        "\n",
        "  #todo define getters and setter for x and y features\n",
        "  @property\n",
        "  def pathDataset(self):\n",
        "    return self._pathDataset\n",
        "\n",
        "  @pathDataset.setter\n",
        "  def pathDataset(self, newPathDataset):\n",
        "    self._pathDataset = newPathDataset\n",
        "\n",
        "\n",
        "\n"
      ],
      "metadata": {
        "id": "dXcpjwKqFDLG"
      },
      "execution_count": 19,
      "outputs": []
    },
    {
      "cell_type": "code",
      "source": [
        "class NMC():\n",
        "  #Nearest Mean Centroid (NMC) classifier\n",
        "  def __init__(self):\n",
        "    self._centroids = None\n",
        "\n",
        "  ''' fit computes the avarage \"centroids images\". The centroids are the mean of each element from the training set\n",
        "      A centroid is a matrix of 10 rows x 784 columns, as it\n",
        "      needs to store 1 centroid (784 values) per class (there are 10 classes on the MSNIT dataset)\n",
        "  '''\n",
        "  def fit(self,xTraining, yTraining):\n",
        "    pass\n",
        ""
      ],
      "metadata": {
        "id": "mlxB6uXBMqsV"
      },
      "execution_count": 21,
      "outputs": []
    },
    {
      "cell_type": "code",
      "source": [
        "#display utils\n",
        "import matplotlib.pyplot as plt\n",
        "\n",
        "def plotImage(image, shape=(28,28)):\n",
        "  image = image.reshape(shape)\n",
        "  plt.imshow(image,cmap='gray')\n",
        "\n",
        "#this util plot 5 images in a row\n",
        "def plotImagesInRows(x, y, rows, cols,shape=(28,28)):\n",
        "  itemsToPrint = rows*cols\n",
        "  plt.figure(figsize=(itemsToPrint,cols))\n",
        "\n",
        "  for i in range(itemsToPrint):\n",
        "    plt.subplot(rows, cols, i+1)\n",
        "    image = x[i,:]\n",
        "    plotImage(image, shape=shape)\n",
        "    plt.title('Label: ' + str(y[i]))\n",
        "\n",
        "\n",
        "\n"
      ],
      "metadata": {
        "id": "5YJ8V3JoqIE9"
      },
      "execution_count": 15,
      "outputs": []
    },
    {
      "cell_type": "code",
      "source": [
        "if __name__ == \"__main__\":\n",
        "  dManager = DatasetManager(\"https://github.com/unica-isde/isde/raw/master/data/mnist_data.csv\")\n",
        "  x, y = dManager.loadDataset(1000) #x=images, y=labels. x and y are ndarray\n",
        "\n",
        "  print(x.shape) #rows * columns = 1000*784\n",
        "  #print(type(data))\n",
        "  print(y.shape)\n",
        "  dManager.digitsForEachClass()\n",
        "  plotImagesInRows(x,y,2,5)\n",
        "\n",
        "  dManager.dataSplit()"
      ],
      "metadata": {
        "colab": {
          "base_uri": "https://localhost:8080/",
          "height": 1000
        },
        "id": "ki-p2EqMOCCD",
        "outputId": "b0267e44-c796-475a-e5c6-bad2f0d2d9f7"
      },
      "execution_count": 18,
      "outputs": [
        {
          "output_type": "stream",
          "name": "stdout",
          "text": [
            "(1000, 784)\n",
            "(1000,)\n",
            "NumClasses are:  10\n",
            "tr_idx[ 52 253  86 705 194 513 642 103 886 969 866 654  70 720 660 165 371 828\n",
            " 202 166 769 803 341 782 555 608 540 581 927 516 495 817 862 871 857 604\n",
            " 797 671 161 174 840 298 385  84 477 756 187 189 849 752 667 852 472 136\n",
            "  12 772 339 596 837 794 279 525 407 748 653 611 171 164  55 203 342 854\n",
            " 417  73 437 192 381 717 805 834 470 647 773 982  50 196 321  81 219 751\n",
            " 576   0 899 956 386 845 240 367 855 577 181 911 768 663 818  22 124  80\n",
            " 665 488 691 158 469 998 300 940 631 649 970 804 502 489  14 432 209 191\n",
            " 757   7 233 356 916 520 644  34 313 227 239 102 702  24 360 547 519 598\n",
            " 918 305 968 682 641 639 112 908 780 133 670 952 959 225 439 431 627 587\n",
            " 978 260 518 593 902 945 551 833 527 195 686 328 584 282 127 630 289 428\n",
            " 419 553 504  79 638 190 318  26 688 373 414 799 231 703 396 963  23 163\n",
            " 464 896 801 266 937 278 726  57 438 107 484 376   6 976 113 571 226 277\n",
            " 848 742 522 680 397  20 557  87 876 135 524 494  41 910 905 122 807 903\n",
            " 826 480 453 673 701 975 599 992 655  76 388 201 382 789 193 800 635 175\n",
            " 337 110 301 322 251 676 114  60 677 950  54 743 617  99  69 993  83 325\n",
            " 147 733  53 999 847 605 861  98 510 415 913 125 530  49 216  92 796 430\n",
            " 543 245 315 664 379 578 839 222 273  39 980 988 420 395 713 674 355 575\n",
            " 142 928 533 511  88 568 835 991 589 900 179 964  27 711 526 457 303 694\n",
            " 595 205  21 879 995 152 149  25 697 538 597 706 904 724 235 336 925 167\n",
            "  40 217 838 776 243 150 317 361 955 248 284 539  30 180 440 616 482 891\n",
            " 132 215 350 962   5 634 218 514  58 710 785 160 505 979 874 882 716 850\n",
            "   1 408 352 529 632 509 197 615 620 610 101 503 685 410 314 825 335 731\n",
            " 821 384 965 111 471 715 184 326 646 775 774 257 795 490 792 409 532 983\n",
            " 183 827 295 462 843 344 972 285 936 118 558 893 176 946  62 721 106 951\n",
            "  56 740 906 699 625 658 140 466 148 252   9  74 473 690 244 259  65 613\n",
            "  29 496  59 236 120 208 656 704  44 570 291 426 564 746 461 378  28 498\n",
            " 798 623 153 915 548 343 579 324 884 815 856 435 162 633 272 736 561 413\n",
            " 614  94 444 429 297  18 583 565 735 860 912 974 867 684 403 242 829 115\n",
            " 255 767 173 182 501 953  91  33 822 787   3 523 984 485 475 618 370 476\n",
            " 809 695 885 621 238 256 730 515 312 732 734 406 921 185 659 766 541 536\n",
            " 309 351 783 556  16 436 781 683 729 354 996 727 265 637  38  43 389 552\n",
            " 942 145 463 213 643 602 811 261 693 134 853 895 858 722 393 507 517 392\n",
            " 394 868 455 949 421  11 262 271 930 771 872  67 700 739 698 249 267 661\n",
            " 316 331 119 566 401 816]\n",
            "ts_idx[387 681 554 206 188 960 447  95 151 574 506 586 784  68 628 146  97  96\n",
            " 207 400 177 434 550 330 609 508 668 456 442 157 741  85 887 810 154 786\n",
            " 645 935 143 760 268  89 358 425 820 448 353 692 719 844 851 864 275 478\n",
            " 286   4 997 987 863 499 585  35 446 126 753 841  61 258 582 294 687 537\n",
            "  10 500 254 591 544 327 334 562 770 451 221 427 662 947 232 422 986 521\n",
            " 923  64 332 137 889 449 377 270 569 652 651 542 178 170 210 888 383 302\n",
            " 914 603 492 144 139  32 802 493 728  82 445 220 450 890 288 474 362 943\n",
            "  48 531 778 812 709 129 274 755 105 346 648 948 920 957 793  51 283 169\n",
            " 819 412 836  90 159 737 307 345 452  78 892 155 846 898 228 806 100 545\n",
            " 594 117 939 830 424 198 263 813 718  75 465 411 491 560 723 626 880 287\n",
            " 894 689 468 977 917 764 497 958 883 487 375 108 481 459 310 744 901 640\n",
            " 823 141 712 281 897  36 247 934 933  77 749 348 725 572 364 606 878 390\n",
            " 875 696 338 320 657 747 629 859  45 824 989 479 380  17 761 600 200 745\n",
            " 128 319 932 241 788 814 777 990 264 399 398 458 592 929 116 333 961 296\n",
            " 365 831 130 924 954 873 224  47 246  13 931 672 131  66 293 870 650 366\n",
            " 907 308 418  63 790 791 877 368 738 679 104 926 967  37 172 404  93 121\n",
            " 808 186 666 678 779 359 588 607 714  42 441  31 212 573 199 109 580 204\n",
            " 669 138 758 467 123 416 349 311 405 512 971 759 269 347 280 369 865 299\n",
            " 938 944 763  71 636 211 323 881 994 214 559 486 675 250 909  15 528 374\n",
            " 391 919 454  72 535 292 276 229 549 765 563 842 304  19 832 534 567 483\n",
            " 460 973 402 234 443 363 981 329 433 619 223 707 306 869 590 156 601 237\n",
            " 750 966 372 168 624 357 622   8 546 708 754 230 340 941 290 762 922 423\n",
            "   2  46 612 985]\n",
            "[[0 0 0 ... 0 0 0]\n",
            " [0 0 0 ... 0 0 0]\n",
            " [0 0 0 ... 0 0 0]\n",
            " ...\n",
            " [0 0 0 ... 0 0 0]\n",
            " [0 0 0 ... 0 0 0]\n",
            " [0 0 0 ... 0 0 0]]\n"
          ]
        },
        {
          "output_type": "display_data",
          "data": {
            "text/plain": [
              "<Figure size 1000x500 with 10 Axes>"
            ],
            "image/png": "[encoded data removed]"
          },
          "metadata": {}
        }
      ]
    }
  ]
}